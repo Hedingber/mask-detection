{
 "cells": [
  {
   "cell_type": "code",
   "execution_count": 1,
   "metadata": {},
   "outputs": [
    {
     "data": {
      "text/plain": [
       "('/home/jovyan/data/mask-detection',\n",
       " '/home/jovyan/data/mask-detection/images',\n",
       " '/home/jovyan/data/mask-detection/models')"
      ]
     },
     "execution_count": 1,
     "metadata": {},
     "output_type": "execute_result"
    }
   ],
   "source": [
    "import mlrun\n",
    "import os\n",
    "\n",
    "# set up project\n",
    "project_name='mask-detection'\n",
    "project_dir = os.path.abspath('./')\n",
    "project = mlrun.new_project(project_name, project_dir)\n",
    "mlrun.set_environment(project=project.metadata.name)\n",
    "artifact_path = mlrun.mlconf.artifact_path\n",
    "\n",
    "# specify paths\n",
    "code_dir = project_dir # Where our source code files are saved\n",
    "dataset_path = os.path.join(project_dir, 'dataset') \n",
    "model_path = os.path.join(project_dir,'models')\n",
    "code_dir, dataset_path, model_path"
   ]
  },
  {
   "cell_type": "code",
   "execution_count": 2,
   "metadata": {},
   "outputs": [],
   "source": [
    "open_archive_function = mlrun.import_function('hub://open_archive')"
   ]
  },
  {
   "cell_type": "code",
   "execution_count": 3,
   "metadata": {},
   "outputs": [
    {
     "name": "stdout",
     "output_type": "stream",
     "text": [
      "> 2021-04-29 20:10:50,249 [info] starting run open-archive-open_archive uid=cb3549c16b4545ce9ce78d3a8dd971ee DB=http://mlrun-api:8080\n",
      "> 2021-04-29 20:10:50,412 [info] downloading https://s3.wasabisys.com/iguazio/data/masks_no_masks/archive.zip to local tmp\n"
     ]
    },
    {
     "data": {
      "text/html": [
       "<style>\n",
       ".dictlist {\n",
       "  background-color: #4EC64B;\n",
       "  text-align: center;\n",
       "  margin: 4px;\n",
       "  border-radius: 3px; padding: 0px 3px 1px 3px; display: inline-block;}\n",
       ".artifact {\n",
       "  cursor: pointer;\n",
       "  background-color: #4EC64B;\n",
       "  text-align: left;\n",
       "  margin: 4px; border-radius: 3px; padding: 0px 3px 1px 3px; display: inline-block;\n",
       "}\n",
       "div.block.hidden {\n",
       "  display: none;\n",
       "}\n",
       ".clickable {\n",
       "  cursor: pointer;\n",
       "}\n",
       ".ellipsis {\n",
       "  display: inline-block;\n",
       "  max-width: 60px;\n",
       "  white-space: nowrap;\n",
       "  overflow: hidden;\n",
       "  text-overflow: ellipsis;\n",
       "}\n",
       ".master-wrapper {\n",
       "  display: flex;\n",
       "  flex-flow: row nowrap;\n",
       "  justify-content: flex-start;\n",
       "  align-items: stretch;\n",
       "}\n",
       ".master-tbl {\n",
       "  flex: 3\n",
       "}\n",
       ".master-wrapper > div {\n",
       "  margin: 4px;\n",
       "  padding: 10px;\n",
       "}\n",
       "iframe.fileview {\n",
       "  border: 0 none;\n",
       "  height: 100%;\n",
       "  width: 100%;\n",
       "  white-space: pre-wrap;\n",
       "}\n",
       ".pane-header-title {\n",
       "  width: 80%;\n",
       "  font-weight: 500;\n",
       "}\n",
       ".pane-header {\n",
       "  line-height: 1;\n",
       "  background-color: #4EC64B;\n",
       "  padding: 3px;\n",
       "}\n",
       ".pane-header .close {\n",
       "  font-size: 20px;\n",
       "  font-weight: 700;\n",
       "  float: right;\n",
       "  margin-top: -5px;\n",
       "}\n",
       ".master-wrapper .right-pane {\n",
       "  border: 1px inset silver;\n",
       "  width: 40%;\n",
       "  min-height: 300px;\n",
       "  flex: 3\n",
       "  min-width: 500px;\n",
       "}\n",
       ".master-wrapper * {\n",
       "  box-sizing: border-box;\n",
       "}\n",
       "</style><script>\n",
       "function copyToClipboard(fld) {\n",
       "    if (document.queryCommandSupported && document.queryCommandSupported('copy')) {\n",
       "        var textarea = document.createElement('textarea');\n",
       "        textarea.textContent = fld.innerHTML;\n",
       "        textarea.style.position = 'fixed';\n",
       "        document.body.appendChild(textarea);\n",
       "        textarea.select();\n",
       "\n",
       "        try {\n",
       "            return document.execCommand('copy'); // Security exception may be thrown by some browsers.\n",
       "        } catch (ex) {\n",
       "\n",
       "        } finally {\n",
       "            document.body.removeChild(textarea);\n",
       "        }\n",
       "    }\n",
       "}\n",
       "function expandPanel(el) {\n",
       "  const panelName = \"#\" + el.getAttribute('paneName');\n",
       "  console.log(el.title);\n",
       "\n",
       "  document.querySelector(panelName + \"-title\").innerHTML = el.title\n",
       "  iframe = document.querySelector(panelName + \"-body\");\n",
       "\n",
       "  const tblcss = `<style> body { font-family: Arial, Helvetica, sans-serif;}\n",
       "    #csv { margin-bottom: 15px; }\n",
       "    #csv table { border-collapse: collapse;}\n",
       "    #csv table td { padding: 4px 8px; border: 1px solid silver;} </style>`;\n",
       "\n",
       "  function csvToHtmlTable(str) {\n",
       "    return '<div id=\"csv\"><table><tr><td>' +  str.replace(/[\\n\\r]+$/g, '').replace(/[\\n\\r]+/g, '</td></tr><tr><td>')\n",
       "      .replace(/,/g, '</td><td>') + '</td></tr></table></div>';\n",
       "  }\n",
       "\n",
       "  function reqListener () {\n",
       "    if (el.title.endsWith(\".csv\")) {\n",
       "      iframe.setAttribute(\"srcdoc\", tblcss + csvToHtmlTable(this.responseText));\n",
       "    } else {\n",
       "      iframe.setAttribute(\"srcdoc\", this.responseText);\n",
       "    }\n",
       "    console.log(this.responseText);\n",
       "  }\n",
       "\n",
       "  const oReq = new XMLHttpRequest();\n",
       "  oReq.addEventListener(\"load\", reqListener);\n",
       "  oReq.open(\"GET\", el.title);\n",
       "  oReq.send();\n",
       "\n",
       "\n",
       "  //iframe.src = el.title;\n",
       "  const resultPane = document.querySelector(panelName + \"-pane\");\n",
       "  if (resultPane.classList.contains(\"hidden\")) {\n",
       "    resultPane.classList.remove(\"hidden\");\n",
       "  }\n",
       "}\n",
       "function closePanel(el) {\n",
       "  const panelName = \"#\" + el.getAttribute('paneName')\n",
       "  const resultPane = document.querySelector(panelName + \"-pane\");\n",
       "  if (!resultPane.classList.contains(\"hidden\")) {\n",
       "    resultPane.classList.add(\"hidden\");\n",
       "  }\n",
       "}\n",
       "\n",
       "</script>\n",
       "<div class=\"master-wrapper\">\n",
       "  <div class=\"block master-tbl\"><div>\n",
       "<style scoped>\n",
       "    .dataframe tbody tr th:only-of-type {\n",
       "        vertical-align: middle;\n",
       "    }\n",
       "\n",
       "    .dataframe tbody tr th {\n",
       "        vertical-align: top;\n",
       "    }\n",
       "\n",
       "    .dataframe thead th {\n",
       "        text-align: right;\n",
       "    }\n",
       "</style>\n",
       "<table border=\"1\" class=\"dataframe\">\n",
       "  <thead>\n",
       "    <tr style=\"text-align: right;\">\n",
       "      <th>project</th>\n",
       "      <th>uid</th>\n",
       "      <th>iter</th>\n",
       "      <th>start</th>\n",
       "      <th>state</th>\n",
       "      <th>name</th>\n",
       "      <th>labels</th>\n",
       "      <th>inputs</th>\n",
       "      <th>parameters</th>\n",
       "      <th>results</th>\n",
       "      <th>artifacts</th>\n",
       "    </tr>\n",
       "  </thead>\n",
       "  <tbody>\n",
       "    <tr>\n",
       "      <td>mask-detection</td>\n",
       "      <td><div title=\"cb3549c16b4545ce9ce78d3a8dd971ee\"><a href=\"http://localhost:30060/projects/mask-detection/jobs/monitor/cb3549c16b4545ce9ce78d3a8dd971ee/overview\" target=\"_blank\" >...8dd971ee</a></div></td>\n",
       "      <td>0</td>\n",
       "      <td>Apr 29 20:10:50</td>\n",
       "      <td>completed</td>\n",
       "      <td>open-archive-open_archive</td>\n",
       "      <td><div class=\"dictlist\">kind=</div><div class=\"dictlist\">owner=jovyan</div><div class=\"dictlist\">host=mlrun-kit-jupyter-5cf6474ff6-bwn2f</div></td>\n",
       "      <td><div title=\"https://s3.wasabisys.com/iguazio/data/masks_no_masks/archive.zip\">archive_url</div></td>\n",
       "      <td><div class=\"dictlist\">subdir=./images</div></td>\n",
       "      <td></td>\n",
       "      <td><div title=\"/home/jovyan/data/images\">content</div></td>\n",
       "    </tr>\n",
       "  </tbody>\n",
       "</table>\n",
       "</div></div>\n",
       "  <div id=\"resultd261f8c3-pane\" class=\"right-pane block hidden\">\n",
       "    <div class=\"pane-header\">\n",
       "      <span id=\"resultd261f8c3-title\" class=\"pane-header-title\">Title</span>\n",
       "      <span onclick=\"closePanel(this)\" paneName=\"resultd261f8c3\" class=\"close clickable\">&times;</span>\n",
       "    </div>\n",
       "    <iframe class=\"fileview\" id=\"resultd261f8c3-body\"></iframe>\n",
       "  </div>\n",
       "</div>\n"
      ],
      "text/plain": [
       "<IPython.core.display.HTML object>"
      ]
     },
     "metadata": {},
     "output_type": "display_data"
    },
    {
     "name": "stdout",
     "output_type": "stream",
     "text": [
      "to track results use .show() or .logs() or in CLI: \n",
      "!mlrun get run cb3549c16b4545ce9ce78d3a8dd971ee --project mask-detection , !mlrun logs cb3549c16b4545ce9ce78d3a8dd971ee --project mask-detection\n",
      "> 2021-04-29 20:21:40,469 [info] run executed, status=completed\n"
     ]
    }
   ],
   "source": [
    "open_archive_function.run(handler='open_archive', \n",
    "                          params={\"subdir\": './dataset', 'key' :'dataset'}, \n",
    "                          inputs={\"archive_url\": \"https://s3.wasabisys.com/iguazio/data/masks_no_masks/archive.zip\"},\n",
    "                          local=True)"
   ]
  },
  {
   "cell_type": "code",
   "execution_count": 5,
   "metadata": {},
   "outputs": [],
   "source": [
    "# Set horovod function parameters using MLRun\n",
    "code_file = os.path.join(code_dir, 'training_code.py')\n",
    "trainer = mlrun.new_function(name='trainer',\n",
    "                             kind='mpijob',\n",
    "                             command=code_file)\n",
    "\n",
    "trainer.build_config(base_image=\"mlrun/ml-models\", \n",
    "                     commands=[\"apt update; apt install libgl1-mesa-glx\", \n",
    "                               \"pip install opencv-python-headless\"])\n",
    "\n",
    "# set up functions params for testing \n",
    "epochs = 1\n",
    "replicas = 1\n",
    "batch_size = 32\n",
    "\n",
    "trainer.spec.replicas = replicas\n",
    "\n",
    "trainer.apply(mlrun.platforms.auto_mount())\n",
    "\n",
    "trainer.set_mpi_args(['-x', 'NCCL_DEBUG=INFO'])"
   ]
  },
  {
   "cell_type": "code",
   "execution_count": 6,
   "metadata": {},
   "outputs": [
    {
     "name": "stdout",
     "output_type": "stream",
     "text": [
      "> 2021-04-29 20:23:31,774 [info] starting remote build, image: .hedingber/func-mask-detection-trainer:latest\n",
      "E0429 20:24:31.746187       1 aws_credentials.go:77] while getting AWS credentials NoCredentialProviders: no valid providers in chain. Deprecated.\n",
      "\tFor verbose messaging see aws.Config.CredentialsChainVerboseErrors\n",
      "\u001b[36mINFO\u001b[0m[0045] Retrieving image manifest mlrun/ml-models:0.6.3-rc5 \n",
      "\u001b[36mINFO\u001b[0m[0047] Retrieving image manifest mlrun/ml-models:0.6.3-rc5 \n",
      "\u001b[36mINFO\u001b[0m[0051] Built cross stage deps: map[]                \n",
      "\u001b[36mINFO\u001b[0m[0051] Retrieving image manifest mlrun/ml-models:0.6.3-rc5 \n",
      "\u001b[36mINFO\u001b[0m[0053] Retrieving image manifest mlrun/ml-models:0.6.3-rc5 \n",
      "\u001b[36mINFO\u001b[0m[0055] Executing 0 build triggers                   \n",
      "\u001b[36mINFO\u001b[0m[0055] Unpacking rootfs as cmd RUN apt update; apt install libgl1-mesa-glx requires it. \n",
      "\u001b[36mINFO\u001b[0m[0265] RUN apt update; apt install libgl1-mesa-glx  \n",
      "\u001b[36mINFO\u001b[0m[0265] Taking snapshot of full filesystem...        \n",
      "\u001b[36mINFO\u001b[0m[0341] cmd: /bin/sh                                 \n",
      "\u001b[36mINFO\u001b[0m[0341] args: [-c apt update; apt install libgl1-mesa-glx] \n",
      "\u001b[36mINFO\u001b[0m[0341] Running: [/bin/sh -c apt update; apt install libgl1-mesa-glx] \n",
      "\n",
      "WARNING: apt does not have a stable CLI interface. Use with caution in scripts.\n",
      "\n",
      "Err:1 http://deb.debian.org/debian buster InRelease\n",
      "  Could not connect to debian.map.fastlydns.net:80 (199.232.138.132). - connect (111: Connection refused) Unable to connect to deb.debian.org:http:\n",
      "Err:2 http://deb.debian.org/debian buster-updates InRelease\n",
      "  Unable to connect to deb.debian.org:http:\n",
      "Err:3 http://security.debian.org/debian-security buster/updates InRelease\n",
      "  Could not connect to debian.map.fastlydns.net:80 (199.232.138.132). - connect (111: Connection refused) Could not connect to security.debian.org:80 (151.101.2.132). - connect (111: Connection refused) Could not connect to security.debian.org:80 (151.101.130.132). - connect (111: Connection refused) Could not connect to security.debian.org:80 (151.101.194.132). - connect (111: Connection refused) Could not connect to security.debian.org:80 (151.101.66.132). - connect (111: Connection refused)\n",
      "Reading package lists...\n",
      "Building dependency tree...\n",
      "Reading state information...\n",
      "W: Failed to fetch http://deb.debian.org/debian/dists/buster/InRelease  Could not connect to debian.map.fastlydns.net:80 (199.232.138.132). - connect (111: Connection refused) Unable to connect to deb.debian.org:http:\n",
      "W: Failed to fetch http://security.debian.org/debian-security/dists/buster/updates/InRelease  Could not connect to debian.map.fastlydns.net:80 (199.232.138.132). - connect (111: Connection refused) Could not connect to security.debian.org:80 (151.101.2.132). - connect (111: Connection refused) Could not connect to security.debian.org:80 (151.101.130.132). - connect (111: Connection refused) Could not connect to security.debian.org:80 (151.101.194.132). - connect (111: Connection refused) Could not connect to security.debian.org:80 (151.101.66.132). - connect (111: Connection refused)\n",
      "W: Failed to fetch http://deb.debian.org/debian/dists/buster-updates/InRelease  Unable to connect to deb.debian.org:http:\n",
      "W: Some index files failed to download. They have been ignored, or old ones used instead.\n",
      "All packages are up to date.\n",
      "\n",
      "WARNING: apt does not have a stable CLI interface. Use with caution in scripts.\n",
      "\n",
      "Reading package lists...\n",
      "Building dependency tree...\n",
      "Reading state information...\n",
      "E: Unable to locate package libgl1-mesa-glx\n",
      "error building image: error building stage: failed to execute command: waiting for process to exit: exit status 100\n"
     ]
    },
    {
     "data": {
      "text/plain": [
       "False"
      ]
     },
     "execution_count": 6,
     "metadata": {},
     "output_type": "execute_result"
    }
   ],
   "source": [
    "trainer.deploy()"
   ]
  },
  {
   "cell_type": "code",
   "execution_count": null,
   "metadata": {},
   "outputs": [],
   "source": [
    "trainer.run(params={'epochs'         : epochs,\n",
    "                    'batch_size'     : batch_size,\n",
    "                    'imgs'           : dataset_path + '/images',\n",
    "                    'annot'          : dataset_path + '/annotations',\n",
    "                    'model_artifacts': model_path})"
   ]
  },
  {
   "cell_type": "code",
   "execution_count": 16,
   "metadata": {},
   "outputs": [],
   "source": [
    "serving_function_notebook = os.path.join(code_dir, 'serving_code.ipynb')\n",
    "serving_function = mlrun.code_to_function(name='serving', filename=serving_function_notebook)\n",
    "serving_function.apply(mlrun.platforms.auto_mount())"
   ]
  },
  {
   "cell_type": "code",
   "execution_count": 17,
   "metadata": {},
   "outputs": [
    {
     "data": {
      "text/plain": [
       "<mlrun.runtimes.function.RemoteRuntime at 0x7fc32887ef70>"
      ]
     },
     "execution_count": 17,
     "metadata": {},
     "output_type": "execute_result"
    }
   ],
   "source": [
    "\n"
   ]
  },
  {
   "cell_type": "code",
   "execution_count": 18,
   "metadata": {},
   "outputs": [
    {
     "data": {
      "text/plain": [
       "<mlrun.runtimes.function.RemoteRuntime at 0x7fc32887ef70>"
      ]
     },
     "execution_count": 18,
     "metadata": {},
     "output_type": "execute_result"
    }
   ],
   "source": [
    "# set the functions params for our serving function\n",
    "function_envs = {\n",
    "    'IMAGE_HEIGHT': 224,\n",
    "    'IMAGE_WIDTH': 224,\n",
    "    'SERVING_MODEL_model': os.path.join(model_path, 'model.h5'),\n",
    "    'MODEL_CLASS': 'TFModel' #class in tf2_serveing notebook\n",
    "}\n",
    "serving_function.set_envs(function_envs)"
   ]
  },
  {
   "cell_type": "markdown",
   "metadata": {},
   "source": [
    "## Deploy the serving function to the cluster"
   ]
  },
  {
   "cell_type": "code",
   "execution_count": 19,
   "metadata": {},
   "outputs": [
    {
     "name": "stdout",
     "output_type": "stream",
     "text": [
      "> 2021-04-29 16:43:29,262 [info] Starting remote function deploy\n",
      "2021-04-29 16:43:29  (info) Deploying function\n",
      "2021-04-29 16:43:29  (info) Building\n",
      "2021-04-29 16:43:29  (info) Staging files and preparing base images\n",
      "2021-04-29 16:43:29  (info) Building processor image\n",
      "2021-04-29 16:43:44  (info) Build complete\n",
      "> 2021-04-29 16:44:00,293 [info] function deployed, address=192.168.65.3:31280\n"
     ]
    }
   ],
   "source": [
    "serving_function.deploy()"
   ]
  },
  {
   "cell_type": "markdown",
   "metadata": {},
   "source": [
    "## Test the deployed function on the cluster"
   ]
  },
  {
   "cell_type": "code",
   "execution_count": 20,
   "metadata": {},
   "outputs": [],
   "source": [
    "import requests\n",
    "from PIL import Image\n",
    "from io import BytesIO\n",
    "import matplotlib.pyplot as plt\n",
    "import ast\n",
    "import numpy as np"
   ]
  },
  {
   "cell_type": "markdown",
   "metadata": {},
   "source": [
    "### Test the deployed function (with URL)"
   ]
  },
  {
   "cell_type": "code",
   "execution_count": 21,
   "metadata": {},
   "outputs": [
    {
     "name": "stdout",
     "output_type": "stream",
     "text": [
      "Test image:\n"
     ]
    },
    {
     "data": {
      "text/plain": [
       "<matplotlib.image.AxesImage at 0x7fc2cbce9430>"
      ]
     },
     "execution_count": 21,
     "metadata": {},
     "output_type": "execute_result"
    },
    {
     "data": {
      "image/png": "[encoded data removed]",
      "text/plain": [
       "<Figure size 432x288 with 1 Axes>"
      ]
     },
     "metadata": {
      "needs_background": "light"
     },
     "output_type": "display_data"
    }
   ],
   "source": [
    "# get and open an image from web\n",
    "image_url = 'https://image.shutterstock.com/image-photo/health-pandemic-safety-concept-african-260nw-1725434656.jpg'\n",
    "response = requests.get(image_url)\n",
    "image = response.content\n",
    "img = Image.open(BytesIO(image))\n",
    "\n",
    "print('Test image:')\n",
    "plt.imshow(img)"
   ]
  },
  {
   "cell_type": "code",
   "execution_count": 22,
   "metadata": {},
   "outputs": [
    {
     "data": {
      "text/plain": [
       "'{\"Mask probability\": 0.7264541387557983}'"
      ]
     },
     "execution_count": 22,
     "metadata": {},
     "output_type": "execute_result"
    }
   ],
   "source": [
    "# set our serverless serving function address \n",
    "serving_address = 'http://nuclio-{}-{}:8080'.format(project.metadata.name, serving_function.metadata.name)\n",
    "\n",
    "headers = {'Content-type': 'image/jpeg'}\n",
    "url = serving_address + '/model/predict'\n",
    "\n",
    "# invoke our function by https request\n",
    "response = requests.post(url=url, \n",
    "                         data=image, \n",
    "                         headers=headers)\n",
    "# decode our request\n",
    "response.content.decode('utf-8')"
   ]
  }
 ],
 "metadata": {
  "kernelspec": {
   "display_name": "Python 3",
   "language": "python",
   "name": "python3"
  },
  "language_info": {
   "codemirror_mode": {
    "name": "ipython",
    "version": 3
   },
   "file_extension": ".py",
   "mimetype": "text/x-python",
   "name": "python",
   "nbconvert_exporter": "python",
   "pygments_lexer": "ipython3",
   "version": "3.8.8"
  },
  "pycharm": {
   "stem_cell": {
    "cell_type": "raw",
    "source": [],
    "metadata": {
     "collapsed": false
    }
   }
  }
 },
 "nbformat": 4,
 "nbformat_minor": 4
}